{
 "cells": [
  {
   "cell_type": "code",
   "execution_count": 32,
   "metadata": {},
   "outputs": [],
   "source": [
    "def parse_val(x):\n",
    "    y = len(x)\n",
    "    if(not x[y-1].isalpha()):\n",
    "        return float(x)\n",
    "    if(x[y-1]=='p'):\n",
    "        return float(x[0:y-1])* 1e-12   \n",
    "    if(x[y-1]=='n'):\n",
    "        return float(x[0:y-1])* 1e-9\n",
    "    if(x[y-1]=='u'):\n",
    "        return float(x[0:y-1])* 1e-6\n",
    "    if(x[y-1]=='m'):\n",
    "        return float(x[0:y-1])* 1e-3\n",
    "    if(x[y-1]=='k'):\n",
    "        return float(x[0:y-1])* 1e3\n",
    "    if(x[y-1]=='M'):\n",
    "        return float(x[0:y-1])* 1e6\n",
    "    if(x[y-1]=='G'):\n",
    "        return float(x[0:y-1])* 1e9"
   ]
  },
  {
   "cell_type": "code",
   "execution_count": 33,
   "metadata": {},
   "outputs": [
    {
     "name": "stdout",
     "output_type": "stream",
     "text": [
      "1e-12\n"
     ]
    }
   ],
   "source": [
    "print(parse_val(\"1p\"))"
   ]
  },
  {
   "cell_type": "code",
   "execution_count": null,
   "metadata": {},
   "outputs": [],
   "source": []
  }
 ],
 "metadata": {
  "kernelspec": {
   "display_name": "Python 3",
   "language": "python",
   "name": "python3"
  },
  "language_info": {
   "codemirror_mode": {
    "name": "ipython",
    "version": 3
   },
   "file_extension": ".py",
   "mimetype": "text/x-python",
   "name": "python",
   "nbconvert_exporter": "python",
   "pygments_lexer": "ipython3",
   "version": "3.6.8"
  }
 },
 "nbformat": 4,
 "nbformat_minor": 2
}
